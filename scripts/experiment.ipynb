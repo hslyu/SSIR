{
 "cells": [
  {
   "cell_type": "code",
   "execution_count": 4,
   "metadata": {},
   "outputs": [
    {
     "name": "stdout",
     "output_type": "stream",
     "text": [
      "The autoreload extension is already loaded. To reload it, use:\n",
      "  %reload_ext autoreload\n"
     ]
    }
   ],
   "source": [
    "%load_ext autoreload\n",
    "%autoreload 2\n",
    "\n",
    "import os\n",
    "import json\n",
    "\n",
    "from ssir.pathfinder import astar, genetic\n",
    "import ssir.environment as env\n",
    "\n",
    "def save_config(config, dir, filename: str=\"config.json\"):\n",
    "    if not os.path.exists(dir):\n",
    "        os.makedirs(dir)\n",
    "    filename = os.path.join(dir, filename)\n",
    "\n",
    "    with open(filename, \"w\") as f:\n",
    "        json.dump(config, f, indent=4)\n",
    "\n",
    "def run_experiment(exp_index):\n",
    "    # Generate the environment according to the index\n",
    "    config = env.generate_config(exp_index)\n",
    "    dm = env.DataManager(**config)\n",
    "    graph = dm.generate_master_graph()\n",
    "\n",
    "    # TODO: Save the configuration\n",
    "    # result dir architecture: \n",
    "    # results/exp_index/{config.json, graph_1.json, graph_2.json, ...}\n",
    "    parent_dir = f\"results/{exp_index}\"\n",
    "    os.makedirs(parent_dir, exist_ok=True)\n",
    "    save_config(config, parent_dir)\n",
    "\n",
    "    # A* algorithm with distacne\n",
    "    _, predecessors = astar.a_star(graph, metric=\"distance\")\n",
    "    graph_astar_distance = astar.get_solution_graph(graph, predecessors)\n",
    "    print(graph_astar_distance.compute_network_throughput())\n",
    "    graph_astar_distance.save_graph(os.path.join(parent_dir, \"graph_astar_distance.json\"))\n",
    "\n",
    "    # A* algorithm with hop\n",
    "    _, predecessors = astar.a_star(graph, metric=\"hop\")\n",
    "    graph_astar_hop = astar.get_solution_graph(graph, predecessors)\n",
    "    graph_astar_hop.save_graph(os.path.join(parent_dir, \"graph_astar_hop.json\"))\n",
    "\n",
    "    # Genetic algorithm\n",
    "    graph_genetic, _ = genetic.get_solution_graph(graph, True)\n",
    "    graph_genetic.save_graph(os.path.join(parent_dir, \"graph_genetic.json\"))"
   ]
  },
  {
   "cell_type": "code",
   "execution_count": 6,
   "metadata": {},
   "outputs": [
    {
     "name": "stdout",
     "output_type": "stream",
     "text": [
      "[49/2000] Current fitness: -inf | Early-stopping count: 47\r"
     ]
    },
    {
     "ename": "KeyboardInterrupt",
     "evalue": "",
     "output_type": "error",
     "traceback": [
      "\u001b[0;31m---------------------------------------------------------------------------\u001b[0m",
      "\u001b[0;31mKeyboardInterrupt\u001b[0m                         Traceback (most recent call last)",
      "Cell \u001b[0;32mIn[6], line 1\u001b[0m\n\u001b[0;32m----> 1\u001b[0m \u001b[43mrun_experiment\u001b[49m\u001b[43m(\u001b[49m\u001b[38;5;241;43m24\u001b[39;49m\u001b[43m)\u001b[49m\n",
      "Cell \u001b[0;32mIn[4], line 42\u001b[0m, in \u001b[0;36mrun_experiment\u001b[0;34m(exp_index)\u001b[0m\n\u001b[1;32m     39\u001b[0m graph_astar_hop\u001b[38;5;241m.\u001b[39msave_graph(os\u001b[38;5;241m.\u001b[39mpath\u001b[38;5;241m.\u001b[39mjoin(parent_dir, \u001b[38;5;124m\"\u001b[39m\u001b[38;5;124mgraph_astar_hop.json\u001b[39m\u001b[38;5;124m\"\u001b[39m))\n\u001b[1;32m     41\u001b[0m \u001b[38;5;66;03m# Genetic algorithm\u001b[39;00m\n\u001b[0;32m---> 42\u001b[0m graph_genetic, _ \u001b[38;5;241m=\u001b[39m \u001b[43mgenetic\u001b[49m\u001b[38;5;241;43m.\u001b[39;49m\u001b[43mget_solution_graph\u001b[49m\u001b[43m(\u001b[49m\u001b[43mgraph\u001b[49m\u001b[43m,\u001b[49m\u001b[43m \u001b[49m\u001b[38;5;28;43;01mTrue\u001b[39;49;00m\u001b[43m)\u001b[49m\n\u001b[1;32m     43\u001b[0m graph_genetic\u001b[38;5;241m.\u001b[39msave_graph(os\u001b[38;5;241m.\u001b[39mpath\u001b[38;5;241m.\u001b[39mjoin(parent_dir, \u001b[38;5;124m\"\u001b[39m\u001b[38;5;124mgraph_genetic.json\u001b[39m\u001b[38;5;124m\"\u001b[39m))\n",
      "File \u001b[0;32m~/research/SSIR/ssir/pathfinder/genetic.py:190\u001b[0m, in \u001b[0;36mget_solution_graph\u001b[0;34m(graph, verbose)\u001b[0m\n\u001b[1;32m    188\u001b[0m \u001b[38;5;28;01mdef\u001b[39;00m\u001b[38;5;250m \u001b[39m\u001b[38;5;21mget_solution_graph\u001b[39m(graph: bs\u001b[38;5;241m.\u001b[39mIABRelayGraph, verbose\u001b[38;5;241m=\u001b[39m\u001b[38;5;28;01mFalse\u001b[39;00m):\n\u001b[1;32m    189\u001b[0m     genetic \u001b[38;5;241m=\u001b[39m GeneticAlgorithm(graph, verbose)\n\u001b[0;32m--> 190\u001b[0m     \u001b[38;5;28;01mreturn\u001b[39;00m \u001b[43mgenetic\u001b[49m\u001b[38;5;241;43m.\u001b[39;49m\u001b[43mrun\u001b[49m\u001b[43m(\u001b[49m\u001b[43m)\u001b[49m\n",
      "File \u001b[0;32m~/research/SSIR/ssir/pathfinder/genetic.py:50\u001b[0m, in \u001b[0;36mGeneticAlgorithm.run\u001b[0;34m(self)\u001b[0m\n\u001b[1;32m     48\u001b[0m \u001b[38;5;28;01mdef\u001b[39;00m\u001b[38;5;250m \u001b[39m\u001b[38;5;21mrun\u001b[39m(\u001b[38;5;28mself\u001b[39m) \u001b[38;5;241m-\u001b[39m\u001b[38;5;241m>\u001b[39m Tuple[bs\u001b[38;5;241m.\u001b[39mIABRelayGraph, \u001b[38;5;28mfloat\u001b[39m]:\n\u001b[1;32m     49\u001b[0m     ga_instance \u001b[38;5;241m=\u001b[39m ga\u001b[38;5;241m.\u001b[39mGA(\u001b[38;5;241m*\u001b[39m\u001b[38;5;241m*\u001b[39m\u001b[38;5;28mself\u001b[39m\u001b[38;5;241m.\u001b[39mga_params)\n\u001b[0;32m---> 50\u001b[0m     \u001b[43mga_instance\u001b[49m\u001b[38;5;241;43m.\u001b[39;49m\u001b[43mrun\u001b[49m\u001b[43m(\u001b[49m\u001b[43m)\u001b[49m\n\u001b[1;32m     52\u001b[0m     \u001b[38;5;66;03m# solution, solution_fitness, _ = ga_instance.best_solution()\u001b[39;00m\n\u001b[1;32m     53\u001b[0m     \u001b[38;5;66;03m# get the best solution graph from dict\u001b[39;00m\n\u001b[1;32m     54\u001b[0m     best_graph \u001b[38;5;241m=\u001b[39m \u001b[38;5;28;01mNone\u001b[39;00m\n",
      "File \u001b[0;32m~/miniconda3/envs/SSIR/lib/python3.12/site-packages/pygad/pygad.py:1952\u001b[0m, in \u001b[0;36mGA.run\u001b[0;34m(self)\u001b[0m\n\u001b[1;32m   1950\u001b[0m \u001b[38;5;28mself\u001b[39m\u001b[38;5;241m.\u001b[39mprevious_generation_fitness \u001b[38;5;241m=\u001b[39m \u001b[38;5;28mself\u001b[39m\u001b[38;5;241m.\u001b[39mlast_generation_fitness\u001b[38;5;241m.\u001b[39mcopy()\n\u001b[1;32m   1951\u001b[0m \u001b[38;5;66;03m# Measuring the fitness of each chromosome in the population. Save the fitness in the last_generation_fitness attribute.\u001b[39;00m\n\u001b[0;32m-> 1952\u001b[0m \u001b[38;5;28mself\u001b[39m\u001b[38;5;241m.\u001b[39mlast_generation_fitness \u001b[38;5;241m=\u001b[39m \u001b[38;5;28;43mself\u001b[39;49m\u001b[38;5;241;43m.\u001b[39;49m\u001b[43mcal_pop_fitness\u001b[49m\u001b[43m(\u001b[49m\u001b[43m)\u001b[49m\n\u001b[1;32m   1954\u001b[0m best_solution, best_solution_fitness, best_match_idx \u001b[38;5;241m=\u001b[39m \u001b[38;5;28mself\u001b[39m\u001b[38;5;241m.\u001b[39mbest_solution(\n\u001b[1;32m   1955\u001b[0m     pop_fitness\u001b[38;5;241m=\u001b[39m\u001b[38;5;28mself\u001b[39m\u001b[38;5;241m.\u001b[39mlast_generation_fitness)\n\u001b[1;32m   1957\u001b[0m \u001b[38;5;66;03m# Appending the best solution in the current generation to the best_solutions list.\u001b[39;00m\n",
      "File \u001b[0;32m~/miniconda3/envs/SSIR/lib/python3.12/site-packages/pygad/pygad.py:1697\u001b[0m, in \u001b[0;36mGA.cal_pop_fitness\u001b[0;34m(self)\u001b[0m\n\u001b[1;32m   1694\u001b[0m \u001b[38;5;28;01melse\u001b[39;00m:\n\u001b[1;32m   1695\u001b[0m     \u001b[38;5;66;03m# Check if batch processing is used. If not, then calculate this missing fitness value.\u001b[39;00m\n\u001b[1;32m   1696\u001b[0m     \u001b[38;5;28;01mif\u001b[39;00m \u001b[38;5;28mself\u001b[39m\u001b[38;5;241m.\u001b[39mfitness_batch_size \u001b[38;5;129;01min\u001b[39;00m [\u001b[38;5;241m1\u001b[39m, \u001b[38;5;28;01mNone\u001b[39;00m]:\n\u001b[0;32m-> 1697\u001b[0m         fitness \u001b[38;5;241m=\u001b[39m \u001b[38;5;28;43mself\u001b[39;49m\u001b[38;5;241;43m.\u001b[39;49m\u001b[43mfitness_func\u001b[49m\u001b[43m(\u001b[49m\u001b[38;5;28;43mself\u001b[39;49m\u001b[43m,\u001b[49m\u001b[43m \u001b[49m\u001b[43msol\u001b[49m\u001b[43m,\u001b[49m\u001b[43m \u001b[49m\u001b[43msol_idx\u001b[49m\u001b[43m)\u001b[49m\n\u001b[1;32m   1698\u001b[0m         \u001b[38;5;28;01mif\u001b[39;00m \u001b[38;5;28mtype\u001b[39m(fitness) \u001b[38;5;129;01min\u001b[39;00m GA\u001b[38;5;241m.\u001b[39msupported_int_float_types:\n\u001b[1;32m   1699\u001b[0m             \u001b[38;5;66;03m# The fitness function returns a single numeric value.\u001b[39;00m\n\u001b[1;32m   1700\u001b[0m             \u001b[38;5;66;03m# This is a single-objective optimization problem.\u001b[39;00m\n\u001b[1;32m   1701\u001b[0m             \u001b[38;5;28;01mpass\u001b[39;00m\n",
      "File \u001b[0;32m~/research/SSIR/ssir/pathfinder/genetic.py:66\u001b[0m, in \u001b[0;36mGeneticAlgorithm.fitness_func\u001b[0;34m(self, ga_instance, solution, solution_idx)\u001b[0m\n\u001b[1;32m     65\u001b[0m \u001b[38;5;28;01mdef\u001b[39;00m\u001b[38;5;250m \u001b[39m\u001b[38;5;21mfitness_func\u001b[39m(\u001b[38;5;28mself\u001b[39m, ga_instance, solution, solution_idx):\n\u001b[0;32m---> 66\u001b[0m     \u001b[38;5;28;01mreturn\u001b[39;00m \u001b[38;5;28;43mself\u001b[39;49m\u001b[38;5;241;43m.\u001b[39;49m\u001b[43mcompute_fitness\u001b[49m\u001b[43m(\u001b[49m\n\u001b[1;32m     67\u001b[0m \u001b[43m        \u001b[49m\u001b[43msolution\u001b[49m\u001b[43m,\u001b[49m\u001b[43m \u001b[49m\u001b[38;5;28;43mself\u001b[39;49m\u001b[38;5;241;43m.\u001b[39;49m\u001b[43mgraph\u001b[49m\u001b[43m,\u001b[49m\u001b[43m \u001b[49m\u001b[38;5;28;43mself\u001b[39;49m\u001b[38;5;241;43m.\u001b[39;49m\u001b[43messential_nodes\u001b[49m\u001b[43m,\u001b[49m\u001b[43m \u001b[49m\u001b[38;5;28;43mself\u001b[39;49m\u001b[38;5;241;43m.\u001b[39;49m\u001b[43moptional_nodes\u001b[49m\n\u001b[1;32m     68\u001b[0m \u001b[43m    \u001b[49m\u001b[43m)\u001b[49m\n",
      "File \u001b[0;32m~/research/SSIR/ssir/pathfinder/genetic.py:85\u001b[0m, in \u001b[0;36mGeneticAlgorithm.compute_fitness\u001b[0;34m(self, solution, graph, essential_nodes, optional_nodes)\u001b[0m\n\u001b[1;32m     82\u001b[0m     max_fitness \u001b[38;5;241m=\u001b[39m \u001b[38;5;28mself\u001b[39m\u001b[38;5;241m.\u001b[39mtop_solutions_dict[key][\u001b[38;5;241m1\u001b[39m]\n\u001b[1;32m     84\u001b[0m \u001b[38;5;66;03m# repeat the random spanning tree topology 10 times to get the maximum throughput\u001b[39;00m\n\u001b[0;32m---> 85\u001b[0m new_graph \u001b[38;5;241m=\u001b[39m \u001b[43mreconstruct_graph_from_solution\u001b[49m\u001b[43m(\u001b[49m\n\u001b[1;32m     86\u001b[0m \u001b[43m    \u001b[49m\u001b[43msolution\u001b[49m\u001b[43m,\u001b[49m\u001b[43m \u001b[49m\u001b[43mgraph\u001b[49m\u001b[43m,\u001b[49m\u001b[43m \u001b[49m\u001b[43messential_nodes\u001b[49m\u001b[43m,\u001b[49m\u001b[43m \u001b[49m\u001b[43moptional_nodes\u001b[49m\n\u001b[1;32m     87\u001b[0m \u001b[43m\u001b[49m\u001b[43m)\u001b[49m\n\u001b[1;32m     89\u001b[0m \u001b[38;5;66;03m# run A* algorithm to find the shortest path\u001b[39;00m\n\u001b[1;32m     90\u001b[0m predecessors_list \u001b[38;5;241m=\u001b[39m []\n",
      "File \u001b[0;32m~/research/SSIR/ssir/pathfinder/genetic.py:205\u001b[0m, in \u001b[0;36mreconstruct_graph_from_solution\u001b[0;34m(solution, graph, essential_nodes, optional_nodes)\u001b[0m\n\u001b[1;32m    202\u001b[0m node_ids \u001b[38;5;241m=\u001b[39m [node\u001b[38;5;241m.\u001b[39mget_id() \u001b[38;5;28;01mfor\u001b[39;00m node \u001b[38;5;129;01min\u001b[39;00m nodes]\n\u001b[1;32m    204\u001b[0m \u001b[38;5;66;03m# create a new graph with the selected nodes\u001b[39;00m\n\u001b[0;32m--> 205\u001b[0m new_graph \u001b[38;5;241m=\u001b[39m \u001b[43mgraph\u001b[49m\u001b[38;5;241;43m.\u001b[39;49m\u001b[43mcopy_graph_with_selected_nodes\u001b[49m\u001b[43m(\u001b[49m\u001b[43mnode_ids\u001b[49m\u001b[43m)\u001b[49m\n\u001b[1;32m    206\u001b[0m \u001b[38;5;28;01mreturn\u001b[39;00m new_graph\n",
      "File \u001b[0;32m~/research/SSIR/ssir/basestations.py:569\u001b[0m, in \u001b[0;36mIABRelayGraph.copy_graph_with_selected_nodes\u001b[0;34m(self, selected_nodes)\u001b[0m\n\u001b[1;32m    567\u001b[0m     \u001b[38;5;28;01mfor\u001b[39;00m to_node_id \u001b[38;5;129;01min\u001b[39;00m \u001b[38;5;28mself\u001b[39m\u001b[38;5;241m.\u001b[39mget_neighbors(from_node_id):\n\u001b[1;32m    568\u001b[0m         \u001b[38;5;28;01mif\u001b[39;00m to_node_id \u001b[38;5;129;01min\u001b[39;00m selected_nodes:\n\u001b[0;32m--> 569\u001b[0m             \u001b[43mnew_graph\u001b[49m\u001b[38;5;241;43m.\u001b[39;49m\u001b[43madd_edge\u001b[49m\u001b[43m(\u001b[49m\u001b[43mfrom_node_id\u001b[49m\u001b[43m,\u001b[49m\u001b[43m \u001b[49m\u001b[43mto_node_id\u001b[49m\u001b[43m)\u001b[49m\n\u001b[1;32m    571\u001b[0m \u001b[38;5;28;01mreturn\u001b[39;00m new_graph\n",
      "File \u001b[0;32m~/research/SSIR/ssir/basestations.py:424\u001b[0m, in \u001b[0;36mIABRelayGraph.add_edge\u001b[0;34m(self, from_node_id, to_node_id)\u001b[0m\n\u001b[1;32m    422\u001b[0m \u001b[38;5;28;01mif\u001b[39;00m from_node_id \u001b[38;5;129;01min\u001b[39;00m \u001b[38;5;28mself\u001b[39m\u001b[38;5;241m.\u001b[39mnodes \u001b[38;5;129;01mand\u001b[39;00m to_node_id \u001b[38;5;129;01min\u001b[39;00m \u001b[38;5;28mself\u001b[39m\u001b[38;5;241m.\u001b[39mnodes:\n\u001b[1;32m    423\u001b[0m     \u001b[38;5;28mself\u001b[39m\u001b[38;5;241m.\u001b[39madjacency_list[from_node_id]\u001b[38;5;241m.\u001b[39mappend(to_node_id)\n\u001b[0;32m--> 424\u001b[0m     \u001b[38;5;28;43mself\u001b[39;49m\u001b[38;5;241;43m.\u001b[39;49m\u001b[43mnodes\u001b[49m\u001b[43m[\u001b[49m\u001b[43mfrom_node_id\u001b[49m\u001b[43m]\u001b[49m\u001b[38;5;241;43m.\u001b[39;49m\u001b[43madd_child_link\u001b[49m\u001b[43m(\u001b[49m\u001b[38;5;28;43mself\u001b[39;49m\u001b[38;5;241;43m.\u001b[39;49m\u001b[43mnodes\u001b[49m\u001b[43m[\u001b[49m\u001b[43mto_node_id\u001b[49m\u001b[43m]\u001b[49m\u001b[43m)\u001b[49m\n\u001b[1;32m    425\u001b[0m     \u001b[38;5;28mself\u001b[39m\u001b[38;5;241m.\u001b[39mnodes[to_node_id]\u001b[38;5;241m.\u001b[39madd_parent_link(\u001b[38;5;28mself\u001b[39m\u001b[38;5;241m.\u001b[39mnodes[from_node_id])\n\u001b[1;32m    426\u001b[0m \u001b[38;5;28;01melse\u001b[39;00m:\n",
      "File \u001b[0;32m~/research/SSIR/ssir/basestations.py:170\u001b[0m, in \u001b[0;36mAbstractNode.add_child_link\u001b[0;34m(self, node)\u001b[0m\n\u001b[1;32m    167\u001b[0m \u001b[38;5;28;01mdef\u001b[39;00m\u001b[38;5;250m \u001b[39m\u001b[38;5;21mhas_parent\u001b[39m(\u001b[38;5;28mself\u001b[39m) \u001b[38;5;241m-\u001b[39m\u001b[38;5;241m>\u001b[39m \u001b[38;5;28mbool\u001b[39m:\n\u001b[1;32m    168\u001b[0m     \u001b[38;5;28;01mreturn\u001b[39;00m \u001b[38;5;28mlen\u001b[39m(\u001b[38;5;28mself\u001b[39m\u001b[38;5;241m.\u001b[39m_parent) \u001b[38;5;241m>\u001b[39m \u001b[38;5;241m0\u001b[39m\n\u001b[0;32m--> 170\u001b[0m \u001b[38;5;28;01mdef\u001b[39;00m\u001b[38;5;250m \u001b[39m\u001b[38;5;21madd_child_link\u001b[39m(\u001b[38;5;28mself\u001b[39m, node: \u001b[38;5;124m\"\u001b[39m\u001b[38;5;124mAbstractNode\u001b[39m\u001b[38;5;124m\"\u001b[39m):\n\u001b[1;32m    171\u001b[0m     \u001b[38;5;28;01mif\u001b[39;00m node \u001b[38;5;129;01mnot\u001b[39;00m \u001b[38;5;129;01min\u001b[39;00m \u001b[38;5;28mself\u001b[39m\u001b[38;5;241m.\u001b[39m_children:\n\u001b[1;32m    172\u001b[0m         \u001b[38;5;28mself\u001b[39m\u001b[38;5;241m.\u001b[39m_children\u001b[38;5;241m.\u001b[39mappend(node)\n",
      "\u001b[0;31mKeyboardInterrupt\u001b[0m: "
     ]
    }
   ],
   "source": [
    "run_experiment(24)"
   ]
  }
 ],
 "metadata": {
  "kernelspec": {
   "display_name": "SSIR",
   "language": "python",
   "name": "python3"
  },
  "language_info": {
   "codemirror_mode": {
    "name": "ipython",
    "version": 3
   },
   "file_extension": ".py",
   "mimetype": "text/x-python",
   "name": "python",
   "nbconvert_exporter": "python",
   "pygments_lexer": "ipython3",
   "version": "3.12.8"
  }
 },
 "nbformat": 4,
 "nbformat_minor": 2
}
