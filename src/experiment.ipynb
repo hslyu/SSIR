{
 "cells": [
  {
   "cell_type": "code",
   "execution_count": 4,
   "metadata": {},
   "outputs": [
    {
     "name": "stdout",
     "output_type": "stream",
     "text": [
      "The autoreload extension is already loaded. To reload it, use:\n",
      "  %reload_ext autoreload\n"
     ]
    }
   ],
   "source": [
    "%load_ext autoreload\n",
    "%autoreload 2\n",
    "\n",
    "import pathfinder as pf\n",
    "import environment as env"
   ]
  },
  {
   "cell_type": "code",
   "execution_count": 7,
   "metadata": {},
   "outputs": [],
   "source": [
    "# 1. Prepare the environment\n",
    "config = {\n",
    "    \"langitude_range\": [-90, 10],\n",
    "    \"longitude_range\": [20, 50],\n",
    "    \"num_maritime_basestations\": 20,\n",
    "    \"num_ground_basestations\": 25,\n",
    "    \"num_haps_basestations\": 20,\n",
    "    \"num_leo_basestations\": 15,\n",
    "    \"num_users\": 10,\n",
    "}\n",
    "dm = env.DataManager(**config)\n",
    "pm = env.PlotManager()\n",
    "graph = dm.generate_master_graph()\n",
    "\n",
    "# 2. Run the A* algorithm\n",
    "costs, predecessors = pf.a_star(graph, metric=\"distance\")\n",
    "graph_astar_distance = pf.get_solution_graph(graph, predecessors)\n",
    "\n",
    "costs, predecessors = pf.a_star(graph, metric=\"hop\")\n",
    "graph_astar_hop = pf.get_solution_graph(graph, predecessors)\n",
    "\n",
    "graph_list = [graph_astar_distance, graph_astar_hop]\n",
    "\n",
    "print(f\"A* distance throughput: {graph_astar_distance.compute_network_throughput()}\")\n",
    "print(f\"A* hop throughput: {graph_astar_hop.compute_network_throughput()}\")\n",
    "pm.plot_dm(dm, graph_list)"
   ]
  },
  {
   "cell_type": "code",
   "execution_count": 9,
   "metadata": {},
   "outputs": [
    {
     "name": "stdout",
     "output_type": "stream",
     "text": [
      "Generation: 1, Best Fitness: 0.03704994398278157\n",
      "Generation: 2, Best Fitness: 0.02769778646348938\n",
      "Generation: 3, Best Fitness: 0.03026475898859012\n",
      "Generation: 4, Best Fitness: 0.03999041572744678\n",
      "Generation: 5, Best Fitness: 0.03572031632202255\n",
      "Generation: 6, Best Fitness: 0.03552345727121351\n"
     ]
    },
    {
     "ename": "KeyboardInterrupt",
     "evalue": "",
     "output_type": "error",
     "traceback": [
      "\u001b[0;31m---------------------------------------------------------------------------\u001b[0m",
      "\u001b[0;31mKeyboardInterrupt\u001b[0m                         Traceback (most recent call last)",
      "Cell \u001b[0;32mIn[9], line 1\u001b[0m\n\u001b[0;32m----> 1\u001b[0m solution_graph, solution_throughput \u001b[38;5;241m=\u001b[39m \u001b[43mpf\u001b[49m\u001b[38;5;241;43m.\u001b[39;49m\u001b[43mgenetic_algorithm\u001b[49m\u001b[43m(\u001b[49m\u001b[43mgraph\u001b[49m\u001b[43m)\u001b[49m\n\u001b[1;32m      2\u001b[0m graph_list\u001b[38;5;241m.\u001b[39mappend(solution_graph)\n\u001b[1;32m      3\u001b[0m pm\u001b[38;5;241m.\u001b[39mplot_dm(dm, graph_list)\n",
      "File \u001b[0;32m~/research/SSIR/src/pathfinder/genetic.py:69\u001b[0m, in \u001b[0;36mgenetic_algorithm\u001b[0;34m(graph)\u001b[0m\n\u001b[1;32m     66\u001b[0m \u001b[38;5;66;03m# GA Instance\u001b[39;00m\n\u001b[1;32m     67\u001b[0m ga_instance \u001b[38;5;241m=\u001b[39m ga\u001b[38;5;241m.\u001b[39mGA(\u001b[38;5;241m*\u001b[39m\u001b[38;5;241m*\u001b[39mga_params)\n\u001b[0;32m---> 69\u001b[0m \u001b[43mga_instance\u001b[49m\u001b[38;5;241;43m.\u001b[39;49m\u001b[43mrun\u001b[49m\u001b[43m(\u001b[49m\u001b[43m)\u001b[49m\n\u001b[1;32m     71\u001b[0m solution, solution_fitness, _ \u001b[38;5;241m=\u001b[39m ga_instance\u001b[38;5;241m.\u001b[39mbest_solution()\n\u001b[1;32m     73\u001b[0m \u001b[38;5;66;03m# reconstruct the graph with the best solution\u001b[39;00m\n",
      "File \u001b[0;32m~/miniconda3/envs/SSIR/lib/python3.12/site-packages/pygad/pygad.py:1965\u001b[0m, in \u001b[0;36mGA.run\u001b[0;34m(self)\u001b[0m\n\u001b[1;32m   1962\u001b[0m \u001b[38;5;66;03m# Note: Any code that has loop-dependant statements (e.g. continue, break, etc) must be kept inside the loop of the 'run()' method. It can be moved to another method to clean the run() method.\u001b[39;00m\n\u001b[1;32m   1963\u001b[0m \u001b[38;5;66;03m# If the on_generation attribute is not None, then cal the callback function after the generation.\u001b[39;00m\n\u001b[1;32m   1964\u001b[0m \u001b[38;5;28;01mif\u001b[39;00m \u001b[38;5;129;01mnot\u001b[39;00m (\u001b[38;5;28mself\u001b[39m\u001b[38;5;241m.\u001b[39mon_generation \u001b[38;5;129;01mis\u001b[39;00m \u001b[38;5;28;01mNone\u001b[39;00m):\n\u001b[0;32m-> 1965\u001b[0m     r \u001b[38;5;241m=\u001b[39m \u001b[38;5;28;43mself\u001b[39;49m\u001b[38;5;241;43m.\u001b[39;49m\u001b[43mon_generation\u001b[49m\u001b[43m(\u001b[49m\u001b[38;5;28;43mself\u001b[39;49m\u001b[43m)\u001b[49m\n\u001b[1;32m   1966\u001b[0m     \u001b[38;5;28;01mif\u001b[39;00m \u001b[38;5;28mtype\u001b[39m(r) \u001b[38;5;129;01mis\u001b[39;00m \u001b[38;5;28mstr\u001b[39m \u001b[38;5;129;01mand\u001b[39;00m r\u001b[38;5;241m.\u001b[39mlower() \u001b[38;5;241m==\u001b[39m \u001b[38;5;124m\"\u001b[39m\u001b[38;5;124mstop\u001b[39m\u001b[38;5;124m\"\u001b[39m:\n\u001b[1;32m   1967\u001b[0m         \u001b[38;5;66;03m# Before aborting the loop, save the fitness value of the best solution.\u001b[39;00m\n\u001b[1;32m   1968\u001b[0m         \u001b[38;5;66;03m# _, best_solution_fitness, _ = self.best_solution()\u001b[39;00m\n\u001b[1;32m   1969\u001b[0m         \u001b[38;5;28mself\u001b[39m\u001b[38;5;241m.\u001b[39mbest_solutions_fitness\u001b[38;5;241m.\u001b[39mappend(best_solution_fitness)\n",
      "File \u001b[0;32m~/research/SSIR/src/pathfinder/genetic.py:13\u001b[0m, in \u001b[0;36mgenetic_algorithm.<locals>.on_generation\u001b[0;34m(ga_instance)\u001b[0m\n\u001b[1;32m     10\u001b[0m \u001b[38;5;28;01mdef\u001b[39;00m\u001b[38;5;250m \u001b[39m\u001b[38;5;21mon_generation\u001b[39m(ga_instance):\n\u001b[1;32m     11\u001b[0m     \u001b[38;5;28;01mnonlocal\u001b[39;00m last_best_fitness, no_improvement_counter\n\u001b[0;32m---> 13\u001b[0m     current_best_fitness \u001b[38;5;241m=\u001b[39m \u001b[43mga_instance\u001b[49m\u001b[38;5;241;43m.\u001b[39;49m\u001b[43mbest_solution\u001b[49m\u001b[43m(\u001b[49m\u001b[43m)\u001b[49m[\u001b[38;5;241m1\u001b[39m]\n\u001b[1;32m     15\u001b[0m     \u001b[38;5;66;03m# Print the best fitness value at every 5th generation\u001b[39;00m\n\u001b[1;32m     16\u001b[0m     \u001b[38;5;28;01mif\u001b[39;00m ga_instance\u001b[38;5;241m.\u001b[39mgenerations_completed \u001b[38;5;241m%\u001b[39m \u001b[38;5;241m1\u001b[39m \u001b[38;5;241m==\u001b[39m \u001b[38;5;241m0\u001b[39m:\n",
      "File \u001b[0;32m~/miniconda3/envs/SSIR/lib/python3.12/site-packages/pygad/pygad.py:2351\u001b[0m, in \u001b[0;36mGA.best_solution\u001b[0;34m(self, pop_fitness)\u001b[0m\n\u001b[1;32m   2348\u001b[0m \u001b[38;5;28;01mtry\u001b[39;00m:\n\u001b[1;32m   2349\u001b[0m     \u001b[38;5;28;01mif\u001b[39;00m pop_fitness \u001b[38;5;129;01mis\u001b[39;00m \u001b[38;5;28;01mNone\u001b[39;00m:\n\u001b[1;32m   2350\u001b[0m         \u001b[38;5;66;03m# If the 'pop_fitness' parameter is not passed, then we have to call the 'cal_pop_fitness()' method to calculate the fitness of all solutions in the lastest population.\u001b[39;00m\n\u001b[0;32m-> 2351\u001b[0m         pop_fitness \u001b[38;5;241m=\u001b[39m \u001b[38;5;28;43mself\u001b[39;49m\u001b[38;5;241;43m.\u001b[39;49m\u001b[43mcal_pop_fitness\u001b[49m\u001b[43m(\u001b[49m\u001b[43m)\u001b[49m\n\u001b[1;32m   2352\u001b[0m     \u001b[38;5;66;03m# Verify the type of the 'pop_fitness' parameter.\u001b[39;00m\n\u001b[1;32m   2353\u001b[0m     \u001b[38;5;28;01melif\u001b[39;00m \u001b[38;5;28mtype\u001b[39m(pop_fitness) \u001b[38;5;129;01min\u001b[39;00m [\u001b[38;5;28mtuple\u001b[39m, \u001b[38;5;28mlist\u001b[39m, numpy\u001b[38;5;241m.\u001b[39mndarray]:\n\u001b[1;32m   2354\u001b[0m         \u001b[38;5;66;03m# Verify that the length of the passed population fitness matches the length of the 'self.population' attribute.\u001b[39;00m\n",
      "File \u001b[0;32m~/miniconda3/envs/SSIR/lib/python3.12/site-packages/pygad/pygad.py:1697\u001b[0m, in \u001b[0;36mGA.cal_pop_fitness\u001b[0;34m(self)\u001b[0m\n\u001b[1;32m   1694\u001b[0m \u001b[38;5;28;01melse\u001b[39;00m:\n\u001b[1;32m   1695\u001b[0m     \u001b[38;5;66;03m# Check if batch processing is used. If not, then calculate this missing fitness value.\u001b[39;00m\n\u001b[1;32m   1696\u001b[0m     \u001b[38;5;28;01mif\u001b[39;00m \u001b[38;5;28mself\u001b[39m\u001b[38;5;241m.\u001b[39mfitness_batch_size \u001b[38;5;129;01min\u001b[39;00m [\u001b[38;5;241m1\u001b[39m, \u001b[38;5;28;01mNone\u001b[39;00m]:\n\u001b[0;32m-> 1697\u001b[0m         fitness \u001b[38;5;241m=\u001b[39m \u001b[38;5;28;43mself\u001b[39;49m\u001b[38;5;241;43m.\u001b[39;49m\u001b[43mfitness_func\u001b[49m\u001b[43m(\u001b[49m\u001b[38;5;28;43mself\u001b[39;49m\u001b[43m,\u001b[49m\u001b[43m \u001b[49m\u001b[43msol\u001b[49m\u001b[43m,\u001b[49m\u001b[43m \u001b[49m\u001b[43msol_idx\u001b[49m\u001b[43m)\u001b[49m\n\u001b[1;32m   1698\u001b[0m         \u001b[38;5;28;01mif\u001b[39;00m \u001b[38;5;28mtype\u001b[39m(fitness) \u001b[38;5;129;01min\u001b[39;00m GA\u001b[38;5;241m.\u001b[39msupported_int_float_types:\n\u001b[1;32m   1699\u001b[0m             \u001b[38;5;66;03m# The fitness function returns a single numeric value.\u001b[39;00m\n\u001b[1;32m   1700\u001b[0m             \u001b[38;5;66;03m# This is a single-objective optimization problem.\u001b[39;00m\n\u001b[1;32m   1701\u001b[0m             \u001b[38;5;28;01mpass\u001b[39;00m\n",
      "File \u001b[0;32m~/research/SSIR/src/pathfinder/genetic.py:36\u001b[0m, in \u001b[0;36mgenetic_algorithm.<locals>.fitness_func\u001b[0;34m(ga_instance, solution, solution_idx)\u001b[0m\n\u001b[1;32m     35\u001b[0m \u001b[38;5;28;01mdef\u001b[39;00m\u001b[38;5;250m \u001b[39m\u001b[38;5;21mfitness_func\u001b[39m(ga_instance, solution, solution_idx):\n\u001b[0;32m---> 36\u001b[0m     \u001b[38;5;28;01mreturn\u001b[39;00m \u001b[43mcompute_fitness\u001b[49m\u001b[43m(\u001b[49m\u001b[43msolution\u001b[49m\u001b[43m,\u001b[49m\u001b[43m \u001b[49m\u001b[43mgraph\u001b[49m\u001b[43m,\u001b[49m\u001b[43m \u001b[49m\u001b[43messential_nodes\u001b[49m\u001b[43m,\u001b[49m\u001b[43m \u001b[49m\u001b[43moptional_nodes\u001b[49m\u001b[43m)\u001b[49m\n",
      "File \u001b[0;32m~/research/SSIR/src/pathfinder/genetic.py:134\u001b[0m, in \u001b[0;36mcompute_fitness\u001b[0;34m(solution, graph, essential_nodes, optional_nodes)\u001b[0m\n\u001b[1;32m    130\u001b[0m new_graph \u001b[38;5;241m=\u001b[39m reconstruct_graph_from_solution(\n\u001b[1;32m    131\u001b[0m     solution, graph, essential_nodes, optional_nodes\n\u001b[1;32m    132\u001b[0m )\n\u001b[1;32m    133\u001b[0m \u001b[38;5;66;03m# run A* algorithm to find the shortest path\u001b[39;00m\n\u001b[0;32m--> 134\u001b[0m costs, predecessors \u001b[38;5;241m=\u001b[39m \u001b[43ma_star\u001b[49m\u001b[43m(\u001b[49m\u001b[43mnew_graph\u001b[49m\u001b[43m,\u001b[49m\u001b[43m \u001b[49m\u001b[43mmetric\u001b[49m\u001b[38;5;241;43m=\u001b[39;49m\u001b[38;5;124;43m\"\u001b[39;49m\u001b[38;5;124;43mrandom\u001b[39;49m\u001b[38;5;124;43m\"\u001b[39;49m\u001b[43m)\u001b[49m\n\u001b[1;32m    136\u001b[0m new_graph\u001b[38;5;241m.\u001b[39mreset()\n\u001b[1;32m    137\u001b[0m \u001b[38;5;28;01mfor\u001b[39;00m user \u001b[38;5;129;01min\u001b[39;00m graph\u001b[38;5;241m.\u001b[39musers:\n",
      "File \u001b[0;32m~/research/SSIR/src/pathfinder/astar.py:69\u001b[0m, in \u001b[0;36ma_star\u001b[0;34m(graph, heuristic, source, goal, metric)\u001b[0m\n\u001b[1;32m     66\u001b[0m new_cost \u001b[38;5;241m=\u001b[39m costs[current_node_id] \u001b[38;5;241m+\u001b[39m edge_cost\n\u001b[1;32m     68\u001b[0m \u001b[38;5;66;03m# If the calculated distance is less than the recorded distance, update it\u001b[39;00m\n\u001b[0;32m---> 69\u001b[0m \u001b[38;5;28;01mif\u001b[39;00m new_cost \u001b[38;5;241m<\u001b[39m costs[neighbor]:\n\u001b[1;32m     70\u001b[0m     costs[neighbor] \u001b[38;5;241m=\u001b[39m new_cost\n\u001b[1;32m     71\u001b[0m     predecessors[neighbor] \u001b[38;5;241m=\u001b[39m current_node_id  \u001b[38;5;66;03m# Record the previous node\u001b[39;00m\n",
      "\u001b[0;31mKeyboardInterrupt\u001b[0m: "
     ]
    }
   ],
   "source": [
    "solution_graph, solution_throughput = pf.genetic_algorithm(graph)\n",
    "graph_list.append(solution_graph)\n",
    "pm.plot_dm(dm, graph_list)"
   ]
  }
 ],
 "metadata": {
  "kernelspec": {
   "display_name": "Python (SSIR)",
   "language": "python",
   "name": "ssir"
  },
  "language_info": {
   "codemirror_mode": {
    "name": "ipython",
    "version": 3
   },
   "file_extension": ".py",
   "mimetype": "text/x-python",
   "name": "python",
   "nbconvert_exporter": "python",
   "pygments_lexer": "ipython3",
   "version": "3.12.8"
  }
 },
 "nbformat": 4,
 "nbformat_minor": 2
}
